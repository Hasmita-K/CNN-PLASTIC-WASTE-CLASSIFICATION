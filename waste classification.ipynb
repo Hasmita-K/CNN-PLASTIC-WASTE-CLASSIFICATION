{
 "cells": [
  {
   "cell_type": "code",
   "execution_count": 2,
   "metadata": {},
   "outputs": [
    {
     "name": "stdout",
     "output_type": "stream",
     "text": [
      "Collecting opencv-pythonNote: you may need to restart the kernel to use updated packages.\n",
      "\n",
      "  Downloading opencv_python-4.11.0.86-cp37-abi3-win_amd64.whl (39.5 MB)\n",
      "     ---------------------------------------- 0.0/39.5 MB ? eta -:--:--\n",
      "     ---------------------------------------- 0.1/39.5 MB 4.3 MB/s eta 0:00:10\n",
      "     ---------------------------------------- 0.3/39.5 MB 3.3 MB/s eta 0:00:12\n",
      "      --------------------------------------- 0.6/39.5 MB 3.7 MB/s eta 0:00:11\n",
      "     - -------------------------------------- 1.1/39.5 MB 4.5 MB/s eta 0:00:09\n",
      "     - -------------------------------------- 1.5/39.5 MB 4.8 MB/s eta 0:00:08\n",
      "     - -------------------------------------- 1.8/39.5 MB 4.9 MB/s eta 0:00:08\n",
      "     -- ------------------------------------- 2.3/39.5 MB 5.1 MB/s eta 0:00:08\n",
      "     -- ------------------------------------- 2.6/39.5 MB 5.3 MB/s eta 0:00:08\n",
      "     --- ------------------------------------ 3.1/39.5 MB 5.3 MB/s eta 0:00:07\n",
      "     --- ------------------------------------ 3.4/39.5 MB 5.4 MB/s eta 0:00:07\n",
      "     --- ------------------------------------ 3.8/39.5 MB 5.4 MB/s eta 0:00:07\n",
      "     ---- ----------------------------------- 4.4/39.5 MB 5.6 MB/s eta 0:00:07\n",
      "     ---- ----------------------------------- 4.6/39.5 MB 5.5 MB/s eta 0:00:07\n",
      "     ----- ---------------------------------- 5.2/39.5 MB 5.6 MB/s eta 0:00:07\n",
      "     ----- ---------------------------------- 5.5/39.5 MB 5.6 MB/s eta 0:00:07\n",
      "     ------ --------------------------------- 5.9/39.5 MB 5.7 MB/s eta 0:00:06\n",
      "     ------ --------------------------------- 6.3/39.5 MB 5.7 MB/s eta 0:00:06\n",
      "     ------ --------------------------------- 6.7/39.5 MB 5.8 MB/s eta 0:00:06\n",
      "     ------- -------------------------------- 7.1/39.5 MB 5.7 MB/s eta 0:00:06\n",
      "     ------- -------------------------------- 7.4/39.5 MB 5.7 MB/s eta 0:00:06\n",
      "     ------- -------------------------------- 7.4/39.5 MB 5.7 MB/s eta 0:00:06\n",
      "     -------- ------------------------------- 7.9/39.5 MB 5.6 MB/s eta 0:00:06\n",
      "     -------- ------------------------------- 8.3/39.5 MB 5.5 MB/s eta 0:00:06\n",
      "     --------- ------------------------------ 9.1/39.5 MB 5.8 MB/s eta 0:00:06\n",
      "     --------- ------------------------------ 9.6/39.5 MB 5.8 MB/s eta 0:00:06\n",
      "     ---------- ----------------------------- 9.9/39.5 MB 5.8 MB/s eta 0:00:06\n",
      "     ---------- ----------------------------- 10.1/39.5 MB 5.8 MB/s eta 0:00:06\n",
      "     ---------- ----------------------------- 10.4/39.5 MB 5.8 MB/s eta 0:00:05\n",
      "     ---------- ----------------------------- 10.8/39.5 MB 6.0 MB/s eta 0:00:05\n",
      "     ----------- ---------------------------- 11.2/39.5 MB 6.1 MB/s eta 0:00:05\n",
      "     ----------- ---------------------------- 11.6/39.5 MB 6.0 MB/s eta 0:00:05\n",
      "     ------------ --------------------------- 12.1/39.5 MB 6.1 MB/s eta 0:00:05\n",
      "     ------------ --------------------------- 12.4/39.5 MB 6.1 MB/s eta 0:00:05\n",
      "     ------------ --------------------------- 12.7/39.5 MB 6.0 MB/s eta 0:00:05\n",
      "     ------------- -------------------------- 12.9/39.5 MB 6.0 MB/s eta 0:00:05\n",
      "     ------------- -------------------------- 13.8/39.5 MB 5.8 MB/s eta 0:00:05\n",
      "     -------------- ------------------------- 14.1/39.5 MB 5.8 MB/s eta 0:00:05\n",
      "     -------------- ------------------------- 14.4/39.5 MB 5.7 MB/s eta 0:00:05\n",
      "     -------------- ------------------------- 14.7/39.5 MB 5.6 MB/s eta 0:00:05\n",
      "     --------------- ------------------------ 15.0/39.5 MB 5.6 MB/s eta 0:00:05\n",
      "     --------------- ------------------------ 15.3/39.5 MB 5.6 MB/s eta 0:00:05\n",
      "     --------------- ------------------------ 15.6/39.5 MB 5.5 MB/s eta 0:00:05\n",
      "     ---------------- ----------------------- 15.8/39.5 MB 5.4 MB/s eta 0:00:05\n",
      "     ---------------- ----------------------- 16.0/39.5 MB 5.3 MB/s eta 0:00:05\n",
      "     ---------------- ----------------------- 16.2/39.5 MB 5.2 MB/s eta 0:00:05\n",
      "     ---------------- ----------------------- 16.3/39.5 MB 5.2 MB/s eta 0:00:05\n",
      "     ---------------- ----------------------- 16.6/39.5 MB 5.1 MB/s eta 0:00:05\n",
      "     ----------------- ---------------------- 16.9/39.5 MB 5.0 MB/s eta 0:00:05\n",
      "     ----------------- ---------------------- 17.0/39.5 MB 5.0 MB/s eta 0:00:05\n",
      "     ----------------- ---------------------- 17.4/39.5 MB 4.9 MB/s eta 0:00:05\n",
      "     ----------------- ---------------------- 17.7/39.5 MB 5.0 MB/s eta 0:00:05\n",
      "     ------------------ --------------------- 18.0/39.5 MB 4.8 MB/s eta 0:00:05\n",
      "     ------------------ --------------------- 18.1/39.5 MB 4.7 MB/s eta 0:00:05\n",
      "     ------------------ --------------------- 18.2/39.5 MB 4.7 MB/s eta 0:00:05\n",
      "     ------------------ --------------------- 18.3/39.5 MB 4.6 MB/s eta 0:00:05\n",
      "     ------------------- -------------------- 18.9/39.5 MB 4.3 MB/s eta 0:00:05\n",
      "     ------------------- -------------------- 19.1/39.5 MB 4.3 MB/s eta 0:00:05\n",
      "     ------------------- -------------------- 19.3/39.5 MB 4.2 MB/s eta 0:00:05\n",
      "     ------------------- -------------------- 19.6/39.5 MB 4.2 MB/s eta 0:00:05\n",
      "     -------------------- ------------------- 19.8/39.5 MB 4.2 MB/s eta 0:00:05\n",
      "     -------------------- ------------------- 20.0/39.5 MB 4.2 MB/s eta 0:00:05\n",
      "     -------------------- ------------------- 20.3/39.5 MB 4.1 MB/s eta 0:00:05\n",
      "     -------------------- ------------------- 20.5/39.5 MB 4.1 MB/s eta 0:00:05\n",
      "     -------------------- ------------------- 20.7/39.5 MB 4.1 MB/s eta 0:00:05\n",
      "     --------------------- ------------------ 21.3/39.5 MB 4.0 MB/s eta 0:00:05\n",
      "     --------------------- ------------------ 21.6/39.5 MB 4.0 MB/s eta 0:00:05\n",
      "     ---------------------- ----------------- 22.1/39.5 MB 3.9 MB/s eta 0:00:05\n",
      "     ---------------------- ----------------- 22.5/39.5 MB 3.8 MB/s eta 0:00:05\n",
      "     ---------------------- ----------------- 22.7/39.5 MB 3.8 MB/s eta 0:00:05\n",
      "     ----------------------- ---------------- 23.0/39.5 MB 3.7 MB/s eta 0:00:05\n",
      "     ----------------------- ---------------- 23.3/39.5 MB 3.8 MB/s eta 0:00:05\n",
      "     ----------------------- ---------------- 23.5/39.5 MB 3.7 MB/s eta 0:00:05\n",
      "     ------------------------ --------------- 23.7/39.5 MB 3.7 MB/s eta 0:00:05\n",
      "     ------------------------ --------------- 24.0/39.5 MB 3.7 MB/s eta 0:00:05\n",
      "     ------------------------ --------------- 24.5/39.5 MB 3.6 MB/s eta 0:00:05\n",
      "     ------------------------- -------------- 24.7/39.5 MB 3.6 MB/s eta 0:00:05\n",
      "     ------------------------- -------------- 24.9/39.5 MB 3.6 MB/s eta 0:00:05\n",
      "     ------------------------- -------------- 25.1/39.5 MB 3.6 MB/s eta 0:00:05\n",
      "     ------------------------- -------------- 25.3/39.5 MB 3.6 MB/s eta 0:00:05\n",
      "     ------------------------- -------------- 25.6/39.5 MB 3.6 MB/s eta 0:00:04\n",
      "     -------------------------- ------------- 25.9/39.5 MB 3.5 MB/s eta 0:00:04\n",
      "     -------------------------- ------------- 26.1/39.5 MB 3.5 MB/s eta 0:00:04\n",
      "     -------------------------- ------------- 26.4/39.5 MB 3.6 MB/s eta 0:00:04\n",
      "     --------------------------- ------------ 26.7/39.5 MB 3.6 MB/s eta 0:00:04\n",
      "     --------------------------- ------------ 27.2/39.5 MB 3.6 MB/s eta 0:00:04\n",
      "     --------------------------- ------------ 27.3/39.5 MB 3.6 MB/s eta 0:00:04\n",
      "     ---------------------------- ----------- 27.7/39.5 MB 3.6 MB/s eta 0:00:04\n",
      "     ---------------------------- ----------- 27.9/39.5 MB 3.6 MB/s eta 0:00:04\n",
      "     ---------------------------- ----------- 28.1/39.5 MB 3.6 MB/s eta 0:00:04\n",
      "     ---------------------------- ----------- 28.5/39.5 MB 3.8 MB/s eta 0:00:03\n",
      "     ----------------------------- ---------- 28.8/39.5 MB 3.9 MB/s eta 0:00:03\n",
      "     ----------------------------- ---------- 29.0/39.5 MB 3.8 MB/s eta 0:00:03\n",
      "     ----------------------------- ---------- 29.2/39.5 MB 3.8 MB/s eta 0:00:03\n",
      "     ----------------------------- ---------- 29.4/39.5 MB 3.8 MB/s eta 0:00:03\n",
      "     ----------------------------- ---------- 29.6/39.5 MB 3.8 MB/s eta 0:00:03\n",
      "     ------------------------------ --------- 29.9/39.5 MB 3.8 MB/s eta 0:00:03\n",
      "     ------------------------------ --------- 30.2/39.5 MB 3.8 MB/s eta 0:00:03\n",
      "     ------------------------------ --------- 30.6/39.5 MB 3.8 MB/s eta 0:00:03\n",
      "     ------------------------------- -------- 30.7/39.5 MB 3.8 MB/s eta 0:00:03\n",
      "     ------------------------------- -------- 30.9/39.5 MB 3.8 MB/s eta 0:00:03\n",
      "     ------------------------------- -------- 31.1/39.5 MB 3.8 MB/s eta 0:00:03\n",
      "     ------------------------------- -------- 31.3/39.5 MB 3.7 MB/s eta 0:00:03\n",
      "     -------------------------------- ------- 31.9/39.5 MB 3.8 MB/s eta 0:00:03\n",
      "     -------------------------------- ------- 32.2/39.5 MB 3.7 MB/s eta 0:00:02\n",
      "     -------------------------------- ------- 32.4/39.5 MB 3.8 MB/s eta 0:00:02\n",
      "     --------------------------------- ------ 32.6/39.5 MB 3.8 MB/s eta 0:00:02\n",
      "     --------------------------------- ------ 32.8/39.5 MB 3.8 MB/s eta 0:00:02\n",
      "     --------------------------------- ------ 33.4/39.5 MB 3.8 MB/s eta 0:00:02\n",
      "     --------------------------------- ------ 33.5/39.5 MB 3.8 MB/s eta 0:00:02\n",
      "     ---------------------------------- ----- 33.8/39.5 MB 3.7 MB/s eta 0:00:02\n",
      "     ---------------------------------- ----- 34.1/39.5 MB 3.7 MB/s eta 0:00:02\n",
      "     ---------------------------------- ----- 34.4/39.5 MB 3.8 MB/s eta 0:00:02\n",
      "     ----------------------------------- ---- 34.6/39.5 MB 3.8 MB/s eta 0:00:02\n",
      "     ----------------------------------- ---- 35.4/39.5 MB 3.9 MB/s eta 0:00:02\n",
      "     ------------------------------------ --- 35.6/39.5 MB 3.9 MB/s eta 0:00:02\n",
      "     ------------------------------------ --- 35.8/39.5 MB 3.9 MB/s eta 0:00:01\n",
      "     ------------------------------------ --- 36.1/39.5 MB 3.9 MB/s eta 0:00:01\n",
      "     ------------------------------------ --- 36.4/39.5 MB 3.9 MB/s eta 0:00:01\n",
      "     ------------------------------------- -- 36.7/39.5 MB 4.0 MB/s eta 0:00:01\n",
      "     ------------------------------------- -- 37.0/39.5 MB 4.0 MB/s eta 0:00:01\n",
      "     ------------------------------------- -- 37.3/39.5 MB 4.0 MB/s eta 0:00:01\n",
      "     -------------------------------------- - 37.6/39.5 MB 4.0 MB/s eta 0:00:01\n",
      "     -------------------------------------- - 37.8/39.5 MB 4.0 MB/s eta 0:00:01\n",
      "     -------------------------------------- - 38.1/39.5 MB 4.1 MB/s eta 0:00:01\n",
      "     -------------------------------------- - 38.3/39.5 MB 4.1 MB/s eta 0:00:01\n",
      "     ---------------------------------------  38.6/39.5 MB 4.1 MB/s eta 0:00:01\n",
      "     ---------------------------------------  38.8/39.5 MB 4.1 MB/s eta 0:00:01\n",
      "     ---------------------------------------  39.1/39.5 MB 4.1 MB/s eta 0:00:01\n",
      "     ---------------------------------------  39.4/39.5 MB 4.1 MB/s eta 0:00:01\n",
      "     ---------------------------------------  39.5/39.5 MB 4.1 MB/s eta 0:00:01\n",
      "     ---------------------------------------  39.5/39.5 MB 4.1 MB/s eta 0:00:01\n",
      "     ---------------------------------------  39.5/39.5 MB 4.1 MB/s eta 0:00:01\n",
      "     ---------------------------------------  39.5/39.5 MB 4.1 MB/s eta 0:00:01\n",
      "     ---------------------------------------- 39.5/39.5 MB 3.6 MB/s eta 0:00:00\n",
      "Requirement already satisfied: numpy>=1.19.3 in c:\\users\\user\\appdata\\local\\packages\\pythonsoftwarefoundation.python.3.10_qbz5n2kfra8p0\\localcache\\local-packages\\python310\\site-packages (from opencv-python) (2.0.2)\n",
      "Installing collected packages: opencv-python\n",
      "Successfully installed opencv-python-4.11.0.86\n"
     ]
    },
    {
     "name": "stderr",
     "output_type": "stream",
     "text": [
      "\n",
      "[notice] A new release of pip is available: 23.0.1 -> 24.3.1\n",
      "[notice] To update, run: C:\\Users\\user\\AppData\\Local\\Microsoft\\WindowsApps\\PythonSoftwareFoundation.Python.3.10_qbz5n2kfra8p0\\python.exe -m pip install --upgrade pip\n"
     ]
    }
   ],
   "source": [
    "pip install opencv-python"
   ]
  },
  {
   "cell_type": "code",
   "execution_count": 5,
   "metadata": {},
   "outputs": [],
   "source": [
    "#importing necessary libraries\n",
    "import numpy as np\n",
    "import pandas as pd\n",
    "import matplotlib.pyplot as plt\n",
    "import cv2\n",
    "from tqdm import tqdm\n",
    "import os\n",
    "import warnings\n",
    "warnings.filterwarnings('ignore')"
   ]
  },
  {
   "cell_type": "code",
   "execution_count": 3,
   "metadata": {},
   "outputs": [],
   "source": [
    "train_path = 'DATASET/TEST'\n",
    "test_path = 'DATASET/TRAIN'"
   ]
  },
  {
   "cell_type": "code",
   "execution_count": 1,
   "metadata": {},
   "outputs": [],
   "source": [
    "#importing libraries\n",
    "#importing libraries\n",
    "from tensorflow.keras.models import Sequential  \n",
    "from tensorflow.keras.layers import Conv2D, MaxPooling2D, Activation, Dropout, Flatten, Dense, BatchNormalization\n",
    "from tensorflow.keras.preprocessing.image import ImageDataGenerator, img_to_array, load_img\n",
    "from tensorflow.keras.utils import plot_model\n",
    "from glob import glob"
   ]
  },
  {
   "cell_type": "code",
   "execution_count": 6,
   "metadata": {},
   "outputs": [
    {
     "name": "stderr",
     "output_type": "stream",
     "text": [
      "100%|██████████| 1401/1401 [00:28<00:00, 49.57it/s]\n",
      "100%|██████████| 1112/1112 [00:20<00:00, 53.33it/s]\n"
     ]
    }
   ],
   "source": [
    "#visualisation\n",
    "x_data=[]\n",
    "y_data=[]\n",
    "for category in glob(train_path+'/*'):\n",
    "    for file in tqdm(glob(category+'/*')):\n",
    "        img_arr = cv2.imread(file)\n",
    "        img_arr = cv2.cvtColor(img_arr,cv2.COLOR_BGR2RGB)\n",
    "        x_data.append(img_arr)\n",
    "        y_data.append(category)\n",
    "data = pd.DataFrame({'image':x_data,'label':y_data})"
   ]
  },
  {
   "cell_type": "code",
   "execution_count": 7,
   "metadata": {},
   "outputs": [
    {
     "data": {
      "text/plain": [
       "(2513, 2)"
      ]
     },
     "execution_count": 7,
     "metadata": {},
     "output_type": "execute_result"
    }
   ],
   "source": [
    "data.shape"
   ]
  },
  {
   "cell_type": "code",
   "execution_count": 10,
   "metadata": {},
   "outputs": [
    {
     "data": {
      "image/png": "[encoded data removed]",
      "text/plain": [
       "<Figure size 640x480 with 1 Axes>"
      ]
     },
     "metadata": {},
     "output_type": "display_data"
    }
   ],
   "source": [
    "colors = ['#a0d157', '#c48bb0']\n",
    "plt.pie(data.label.value_counts(), labels=['Organic','Plastic'], colors=colors, autopct='%.2f%%', startangle=90,explode=[0.05.0.05])\n",
    "plt.show()"
   ]
  }
 ],
 "metadata": {
  "kernelspec": {
   "display_name": "Python 3",
   "language": "python",
   "name": "python3"
  },
  "language_info": {
   "codemirror_mode": {
    "name": "ipython",
    "version": 3
   },
   "file_extension": ".py",
   "mimetype": "text/x-python",
   "name": "python",
   "nbconvert_exporter": "python",
   "pygments_lexer": "ipython3",
   "version": "3.11.9"
  }
 },
 "nbformat": 4,
 "nbformat_minor": 2
}
